{
 "cells": [
  {
   "cell_type": "markdown",
   "id": "fe12c203-e6a6-452c-a655-afb8a03a4ff5",
   "metadata": {},
   "source": [
    "# End of week 1 exercise\n",
    "\n",
    "To demonstrate your familiarity with OpenAI API, and also Ollama, build a tool that takes a technical question,  \n",
    "and responds with an explanation. This is a tool that you will be able to use yourself during the course!"
   ]
  },
  {
   "cell_type": "code",
   "execution_count": 17,
   "id": "c1070317-3ed9-4659-abe3-828943230e03",
   "metadata": {},
   "outputs": [],
   "source": [
    "# imports\n",
    "import ollama\n",
    "from dotenv import load_dotenv\n",
    "from IPython.display import Markdown, display, update_display\n",
    "from openai import OpenAI"
   ]
  },
  {
   "cell_type": "code",
   "execution_count": 18,
   "id": "4a456906-915a-4bfd-bb9d-57e505c5093f",
   "metadata": {},
   "outputs": [],
   "source": [
    "# constants\n",
    "\n",
    "MODEL_GPT = 'gpt-4o-mini'\n",
    "MODEL_LLAMA = 'llama3:8b'"
   ]
  },
  {
   "cell_type": "code",
   "execution_count": 19,
   "id": "a8d7923c-5f28-4c30-8556-342d7c8497c1",
   "metadata": {},
   "outputs": [],
   "source": [
    "# set up environment\n",
    "load_dotenv()\n",
    "openai = OpenAI()"
   ]
  },
  {
   "cell_type": "code",
   "execution_count": 29,
   "id": "3f0d0137-52b0-47a8-81a8-11a90a010798",
   "metadata": {},
   "outputs": [],
   "source": [
    "# here is the question; type over this to ask something new\n",
    "\n",
    "question = input(\"Enter\")"
   ]
  },
  {
   "cell_type": "code",
   "execution_count": 30,
   "id": "3bad21e1-22bd-42d3-a710-6bd69849fdcf",
   "metadata": {},
   "outputs": [],
   "source": [
    "#Prompts\n",
    "system_prompt = \"You are a helpful technical tutor who answers questions about enterprise data protection software\"\n",
    "user_prompt = \"Please give a detailed explination to the following question: \" + question"
   ]
  },
  {
   "cell_type": "code",
   "execution_count": 31,
   "id": "6d93ba52-c965-4208-a449-b31d8013ffee",
   "metadata": {},
   "outputs": [],
   "source": [
    "#Messages\n",
    "messages = [\n",
    "    {\"role\": \"system\", \"content\": system_prompt},\n",
    "    {\"role\": \"user\", \"content\": user_prompt}\n",
    "]"
   ]
  },
  {
   "cell_type": "code",
   "execution_count": 27,
   "id": "60ce7000-a4a5-4cce-a261-e75ef45063b4",
   "metadata": {},
   "outputs": [
    {
     "data": {
      "text/markdown": [
       "Certainly! An \"index error\" in a Commvault backup job typically refers to a problem related to the indexing of backed-up data. This can occur for various reasons, and troubleshooting it requires a systematic approach. Here’s a detailed explanation and step-by-step guide on how to handle this issue.\n",
       "\n",
       "### Understanding the Index Error\n",
       "In Commvault, the indexing process is crucial as it allows for efficient data retrieval during restores. If there is an index error, it might manifest in several ways, such as:\n",
       "- Inability to restore files\n",
       "- Missing files in the index\n",
       "- Corruption in the index itself\n",
       "- Issues in accessing the backup metadata\n",
       "\n",
       "### Step-by-Step Troubleshooting Guide\n",
       "\n",
       "1. **Check the Job Logs:**\n",
       "   - Navigate to the Commvault Console.\n",
       "   - Open the Job Manager and locate the specific backup job that encountered the index error.\n",
       "   - Review the job logs for detailed error messages. Look for the exact line where the error occurred, and note any associated error codes.\n",
       "\n",
       "2. **Identify the Nature of the Error:**\n",
       "   - Is the error related to a failing job during backup, a restore operation, or catalog operations?\n",
       "   - Does the error mention specific files or data types? Some common examples include:\n",
       "     - Files that are in use during the backup.\n",
       "     - Corrupted files that are failing to index.\n",
       "     - Permissions-related issues preventing access to files.\n",
       "\n",
       "3. **Check for Data Corruption:**\n",
       "   - Run data integrity checks to determine if any corrupted files exist that might be causing the index error.\n",
       "   - Commvault provides tools to verify backup data validity.\n",
       "\n",
       "4. **Examine the Index Configuration:**\n",
       "   - Ensure that the indexing is configured correctly in the storage policy.\n",
       "   - Check if the indexing is enabled for the respective type of data (e.g., file systems, applications).\n",
       "   - Confirm that the deduplication settings are appropriate and not causing index mismatches.\n",
       "\n",
       "5. **Look for Storage Issues:**\n",
       "   - Verify that sufficient storage space is available for indexes.\n",
       "   - Check the disk I/O performance; a slow or failing disk can lead to index errors.\n",
       "   - Make sure that the storage location for the indexes is correctly specified and accessible.\n",
       "\n",
       "6. **Check for Software Updates:**\n",
       "   - Ensure that your Commvault installation is up-to-date with the latest patches and updates. Sometimes, bugs in earlier versions can lead to index errors, and updates may resolve these issues.\n",
       "\n",
       "7. **Rebuild the Index:**\n",
       "   - In some cases, rebuilding the index might be necessary if it's corrupt. \n",
       "   - This can be done through the Commvault Console or via command-line utilities.\n",
       "   - Before rebuilding, it's crucial to have a complete backup to avoid data loss during the process.\n",
       "\n",
       "8. **Review Permissions:**\n",
       "   - Check if the user account executing the backup has the necessary permissions to access all files and folders.\n",
       "   - A lack of access can lead to incomplete indexing and subsequent errors.\n",
       "\n",
       "9. **Contact Support:**\n",
       "   - If you are still unable to resolve the issue, collect all relevant logs, error messages, and any other pertinent information, and contact Commvault support for assistance.\n",
       "   - Provide them with detailed descriptions of the steps you've taken, along with the logs.\n",
       "\n",
       "10. **Document the Incident:**\n",
       "   - After resolving the issue, document what caused the index error and how it was fixed for future reference.\n",
       "   - Regularly review backup procedures and indexing configurations to prevent similar issues.\n",
       "\n",
       "### Conclusion\n",
       "Index errors can disrupt backup and restore operations in Commvault, but following a structured approach to troubleshooting can help identify and correct the problem. Start by analyzing job logs, looking into potential data corruption, checking configurations, and ensuring you’re running the latest version of the software. The key is to be methodical in your approach and document your findings and resolutions for future reference."
      ],
      "text/plain": [
       "<IPython.core.display.Markdown object>"
      ]
     },
     "metadata": {},
     "output_type": "display_data"
    }
   ],
   "source": [
    "# Get gpt-4o-mini to answer, with streaming\n",
    "stream = openai.chat.completions.create(model=MODEL_GPT, messages=messages,stream=True)\n",
    "    \n",
    "response = \"\"\n",
    "display_handle = display(Markdown(\"\"), display_id=True)\n",
    "for chunk in stream:\n",
    "    response += chunk.choices[0].delta.content or ''\n",
    "    response = response.replace(\"```\",\"\").replace(\"markdown\", \"\")\n",
    "    update_display(Markdown(response), display_id=display_handle.display_id)"
   ]
  },
  {
   "cell_type": "code",
   "execution_count": 32,
   "id": "8f7c8ea8-4082-4ad0-8751-3301adcf6538",
   "metadata": {},
   "outputs": [
    {
     "data": {
      "text/markdown": [
       "I'd be happy to help you troubleshoot that Commvault error!\n",
       "\n",
       "Error code 0x10A is typically related to issues with the backup job's retention policy or storage configuration. Here are some steps to help you investigate and potentially resolve the issue:\n",
       "\n",
       "1. **Check the job logs**: Go to the Commvault console, navigate to the Job History tab, and find the specific backup job that failed. Click on the \"Job Logs\" button to view the detailed log output. This will give you insight into what might be causing the error.\n",
       "2. **Error code 0x10A context**: The 0x10A error code is often related to retention policy or storage configuration issues. Specifically, it can indicate:\n",
       "\t* A retention policy conflict: This might occur when a job has multiple retention policies applied and they're in conflict with each other.\n",
       "\t* Storage capacity issues: If the target storage device (e.g., tape library or cloud storage) is running low on space, Commvault might raise an error to prevent data loss.\n",
       "3. **Verify retention policy settings**: Check the retention policy settings for the backup job:\n",
       "\t* Make sure the retention policy is correctly configured and not causing conflicts with other policies.\n",
       "\t* Verify that the retention period is reasonable and not causing issues with storage capacity.\n",
       "4. **Check storage configuration**: Review the storage configuration for the target device:\n",
       "\t* Ensure the storage device has sufficient free space to accommodate the backup data.\n",
       "\t* Check if there are any storage-related issues, such as a full or offline tape library, or a cloud storage bucket that's experiencing connectivity problems.\n",
       "5. **Job properties and settings**: Double-check the job properties and settings:\n",
       "\t* Verify that the job is properly configured with the correct schedule, retention policy, and storage targets.\n",
       "\t* Check if there are any job dependencies or prerequisites that might be causing issues.\n",
       "6. **Error message analysis**: Analyze the error message itself for more specific information:\n",
       "\t* Look for any additional details or error codes within the 0x10A message.\n",
       "\t* If you find a more specific error code, research it in Commvault's documentation or knowledge base to see if there are any known resolutions.\n",
       "7. **Commvault support resources**: If you're still stuck after trying these troubleshooting steps, consider reaching out to:\n",
       "\t* The Commvault community forum: Share your error message and job details with the community to get feedback from other users who may have experienced similar issues.\n",
       "\t* Commvault's official documentation or knowledge base: Search for specific error codes, job settings, or storage configurations that might be relevant to your issue.\n",
       "\t* Commvault support hotline or online support channel: Get assistance from their technical support team, who can help you investigate and resolve the issue.\n",
       "\n",
       "Remember to keep an eye on the job logs and monitor the backup job's status while troubleshooting. If the issue persists, it may be necessary to recreate the backup job with modified settings or adjust the retention policy and storage configuration to avoid similar errors in the future."
      ],
      "text/plain": [
       "<IPython.core.display.Markdown object>"
      ]
     },
     "metadata": {},
     "output_type": "display_data"
    }
   ],
   "source": [
    "# Get Llama 3.2 to answer\n",
    "response = ollama.chat(model=MODEL_LLAMA, messages=messages)\n",
    "reply = response['message']['content']\n",
    "display(Markdown(reply))"
   ]
  },
  {
   "cell_type": "code",
   "execution_count": null,
   "id": "5d669e62-d751-4a96-88a9-e20649837f1d",
   "metadata": {},
   "outputs": [],
   "source": []
  }
 ],
 "metadata": {
  "kernelspec": {
   "display_name": "Python [conda env:llms]",
   "language": "python",
   "name": "conda-env-llms-py"
  },
  "language_info": {
   "codemirror_mode": {
    "name": "ipython",
    "version": 3
   },
   "file_extension": ".py",
   "mimetype": "text/x-python",
   "name": "python",
   "nbconvert_exporter": "python",
   "pygments_lexer": "ipython3",
   "version": "3.11.13"
  }
 },
 "nbformat": 4,
 "nbformat_minor": 5
}
