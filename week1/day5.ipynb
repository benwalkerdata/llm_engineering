{
 "cells": [
  {
   "cell_type": "markdown",
   "id": "a98030af-fcd1-4d63-a36e-38ba053498fa",
   "metadata": {},
   "source": [
    "# A full business solution\n",
    "\n",
    "## Now we will take our project from Day 1 to the next level\n",
    "\n",
    "### BUSINESS CHALLENGE:\n",
    "\n",
    "Create a product that builds a Brochure for a company to be used for prospective clients, investors and potential recruits.\n",
    "\n",
    "We will be provided a company name and their primary website.\n",
    "\n",
    "See the end of this notebook for examples of real-world business applications.\n",
    "\n",
    "And remember: I'm always available if you have problems or ideas! Please do reach out."
   ]
  },
  {
   "cell_type": "code",
   "execution_count": 1,
   "id": "d5b08506-dc8b-4443-9201-5f1848161363",
   "metadata": {},
   "outputs": [],
   "source": [
    "# imports\n",
    "# If these fail, please check you're running from an 'activated' environment with (llms) in the command prompt\n",
    "\n",
    "import os\n",
    "import requests\n",
    "import json\n",
    "from typing import List\n",
    "from dotenv import load_dotenv\n",
    "from bs4 import BeautifulSoup\n",
    "from IPython.display import Markdown, display, update_display\n",
    "from openai import OpenAI"
   ]
  },
  {
   "cell_type": "code",
   "execution_count": 2,
   "id": "fc5d8880-f2ee-4c06-af16-ecbc0262af61",
   "metadata": {},
   "outputs": [
    {
     "name": "stdout",
     "output_type": "stream",
     "text": [
      "API key looks good so far\n"
     ]
    }
   ],
   "source": [
    "# Initialize and constants\n",
    "\n",
    "load_dotenv(override=True)\n",
    "api_key = os.getenv('OPENAI_API_KEY')\n",
    "\n",
    "if api_key and api_key.startswith('sk-proj-') and len(api_key)>10:\n",
    "    print(\"API key looks good so far\")\n",
    "else:\n",
    "    print(\"There might be a problem with your API key? Please visit the troubleshooting notebook!\")\n",
    "    \n",
    "MODEL = 'gpt-4o-mini'\n",
    "openai = OpenAI()"
   ]
  },
  {
   "cell_type": "code",
   "execution_count": 3,
   "id": "106dd65e-90af-4ca8-86b6-23a41840645b",
   "metadata": {},
   "outputs": [],
   "source": [
    "# A class to represent a Webpage\n",
    "\n",
    "# Some websites need you to use proper headers when fetching them:\n",
    "headers = {\n",
    " \"User-Agent\": \"Mozilla/5.0 (Windows NT 10.0; Win64; x64) AppleWebKit/537.36 (KHTML, like Gecko) Chrome/117.0.0.0 Safari/537.36\"\n",
    "}\n",
    "\n",
    "class Website:\n",
    "    \"\"\"\n",
    "    A utility class to represent a Website that we have scraped, now with links\n",
    "    \"\"\"\n",
    "\n",
    "    def __init__(self, url):\n",
    "        self.url = url\n",
    "        response = requests.get(url, headers=headers)\n",
    "        self.body = response.content\n",
    "        soup = BeautifulSoup(self.body, 'html.parser')\n",
    "        self.title = soup.title.string if soup.title else \"No title found\"\n",
    "        if soup.body:\n",
    "            for irrelevant in soup.body([\"script\", \"style\", \"img\", \"input\"]):\n",
    "                irrelevant.decompose()\n",
    "            self.text = soup.body.get_text(separator=\"\\n\", strip=True)\n",
    "        else:\n",
    "            self.text = \"\"\n",
    "        links = [link.get('href') for link in soup.find_all('a')]\n",
    "        self.links = [link for link in links if link]\n",
    "\n",
    "    def get_contents(self):\n",
    "        return f\"Webpage Title:\\n{self.title}\\nWebpage Contents:\\n{self.text}\\n\\n\""
   ]
  },
  {
   "cell_type": "code",
   "execution_count": 4,
   "id": "e30d8128-933b-44cc-81c8-ab4c9d86589a",
   "metadata": {},
   "outputs": [
    {
     "data": {
      "text/plain": [
       "['https://edwarddonner.com/',\n",
       " 'https://edwarddonner.com/connect-four/',\n",
       " 'https://edwarddonner.com/outsmart/',\n",
       " 'https://edwarddonner.com/about-me-and-about-nebula/',\n",
       " 'https://edwarddonner.com/posts/',\n",
       " 'https://edwarddonner.com/',\n",
       " 'https://news.ycombinator.com',\n",
       " 'https://nebula.io/?utm_source=ed&utm_medium=referral',\n",
       " 'https://www.prnewswire.com/news-releases/wynden-stark-group-acquires-nyc-venture-backed-tech-startup-untapt-301269512.html',\n",
       " 'https://patents.google.com/patent/US20210049536A1/',\n",
       " 'https://www.linkedin.com/in/eddonner/',\n",
       " 'https://edwarddonner.com/2025/05/28/connecting-my-courses-become-an-llm-expert-and-leader/',\n",
       " 'https://edwarddonner.com/2025/05/28/connecting-my-courses-become-an-llm-expert-and-leader/',\n",
       " 'https://edwarddonner.com/2025/05/18/2025-ai-executive-briefing/',\n",
       " 'https://edwarddonner.com/2025/05/18/2025-ai-executive-briefing/',\n",
       " 'https://edwarddonner.com/2025/04/21/the-complete-agentic-ai-engineering-course/',\n",
       " 'https://edwarddonner.com/2025/04/21/the-complete-agentic-ai-engineering-course/',\n",
       " 'https://edwarddonner.com/2025/01/23/llm-workshop-hands-on-with-agents-resources/',\n",
       " 'https://edwarddonner.com/2025/01/23/llm-workshop-hands-on-with-agents-resources/',\n",
       " 'https://edwarddonner.com/',\n",
       " 'https://edwarddonner.com/connect-four/',\n",
       " 'https://edwarddonner.com/outsmart/',\n",
       " 'https://edwarddonner.com/about-me-and-about-nebula/',\n",
       " 'https://edwarddonner.com/posts/',\n",
       " 'mailto:hello@mygroovydomain.com',\n",
       " 'https://www.linkedin.com/in/eddonner/',\n",
       " 'https://twitter.com/edwarddonner',\n",
       " 'https://www.facebook.com/edward.donner.52']"
      ]
     },
     "execution_count": 4,
     "metadata": {},
     "output_type": "execute_result"
    }
   ],
   "source": [
    "ed = Website(\"https://edwarddonner.com\")\n",
    "ed.links"
   ]
  },
  {
   "cell_type": "markdown",
   "id": "1771af9c-717a-4fca-bbbe-8a95893312c3",
   "metadata": {},
   "source": [
    "## First step: Have GPT-4o-mini figure out which links are relevant\n",
    "\n",
    "### Use a call to gpt-4o-mini to read the links on a webpage, and respond in structured JSON.  \n",
    "It should decide which links are relevant, and replace relative links such as \"/about\" with \"https://company.com/about\".  \n",
    "We will use \"one shot prompting\" in which we provide an example of how it should respond in the prompt.\n",
    "\n",
    "This is an excellent use case for an LLM, because it requires nuanced understanding. Imagine trying to code this without LLMs by parsing and analyzing the webpage - it would be very hard!\n",
    "\n",
    "Sidenote: there is a more advanced technique called \"Structured Outputs\" in which we require the model to respond according to a spec. We cover this technique in Week 8 during our autonomous Agentic AI project."
   ]
  },
  {
   "cell_type": "code",
   "execution_count": 5,
   "id": "6957b079-0d96-45f7-a26a-3487510e9b35",
   "metadata": {},
   "outputs": [],
   "source": [
    "link_system_prompt = \"You are provided with a list of links found on a webpage. \\\n",
    "You are able to decide which of the links would be most relevant to include in a brochure about the company, \\\n",
    "such as links to an About page, or a Company page, or Careers/Jobs pages.\\n\"\n",
    "link_system_prompt += \"You should respond in JSON as in this example:\"\n",
    "link_system_prompt += \"\"\"\n",
    "{\n",
    "    \"links\": [\n",
    "        {\"type\": \"about page\", \"url\": \"https://full.url/goes/here/about\"},\n",
    "        {\"type\": \"careers page\": \"url\": \"https://another.full.url/careers\"}\n",
    "    ]\n",
    "}\n",
    "\"\"\""
   ]
  },
  {
   "cell_type": "code",
   "execution_count": 6,
   "id": "b97e4068-97ed-4120-beae-c42105e4d59a",
   "metadata": {},
   "outputs": [
    {
     "name": "stdout",
     "output_type": "stream",
     "text": [
      "You are provided with a list of links found on a webpage. You are able to decide which of the links would be most relevant to include in a brochure about the company, such as links to an About page, or a Company page, or Careers/Jobs pages.\n",
      "You should respond in JSON as in this example:\n",
      "{\n",
      "    \"links\": [\n",
      "        {\"type\": \"about page\", \"url\": \"https://full.url/goes/here/about\"},\n",
      "        {\"type\": \"careers page\": \"url\": \"https://another.full.url/careers\"}\n",
      "    ]\n",
      "}\n",
      "\n"
     ]
    }
   ],
   "source": [
    "print(link_system_prompt)"
   ]
  },
  {
   "cell_type": "code",
   "execution_count": 7,
   "id": "8e1f601b-2eaf-499d-b6b8-c99050c9d6b3",
   "metadata": {},
   "outputs": [],
   "source": [
    "def get_links_user_prompt(website):\n",
    "    user_prompt = f\"Here is the list of links on the website of {website.url} - \"\n",
    "    user_prompt += \"please decide which of these are relevant web links for a brochure about the company, respond with the full https URL in JSON format. \\\n",
    "Do not include Terms of Service, Privacy, email links.\\n\"\n",
    "    user_prompt += \"Links (some might be relative links):\\n\"\n",
    "    user_prompt += \"\\n\".join(website.links)\n",
    "    return user_prompt"
   ]
  },
  {
   "cell_type": "code",
   "execution_count": 8,
   "id": "6bcbfa78-6395-4685-b92c-22d592050fd7",
   "metadata": {},
   "outputs": [
    {
     "name": "stdout",
     "output_type": "stream",
     "text": [
      "Here is the list of links on the website of https://edwarddonner.com - please decide which of these are relevant web links for a brochure about the company, respond with the full https URL in JSON format. Do not include Terms of Service, Privacy, email links.\n",
      "Links (some might be relative links):\n",
      "https://edwarddonner.com/\n",
      "https://edwarddonner.com/connect-four/\n",
      "https://edwarddonner.com/outsmart/\n",
      "https://edwarddonner.com/about-me-and-about-nebula/\n",
      "https://edwarddonner.com/posts/\n",
      "https://edwarddonner.com/\n",
      "https://news.ycombinator.com\n",
      "https://nebula.io/?utm_source=ed&utm_medium=referral\n",
      "https://www.prnewswire.com/news-releases/wynden-stark-group-acquires-nyc-venture-backed-tech-startup-untapt-301269512.html\n",
      "https://patents.google.com/patent/US20210049536A1/\n",
      "https://www.linkedin.com/in/eddonner/\n",
      "https://edwarddonner.com/2025/05/28/connecting-my-courses-become-an-llm-expert-and-leader/\n",
      "https://edwarddonner.com/2025/05/28/connecting-my-courses-become-an-llm-expert-and-leader/\n",
      "https://edwarddonner.com/2025/05/18/2025-ai-executive-briefing/\n",
      "https://edwarddonner.com/2025/05/18/2025-ai-executive-briefing/\n",
      "https://edwarddonner.com/2025/04/21/the-complete-agentic-ai-engineering-course/\n",
      "https://edwarddonner.com/2025/04/21/the-complete-agentic-ai-engineering-course/\n",
      "https://edwarddonner.com/2025/01/23/llm-workshop-hands-on-with-agents-resources/\n",
      "https://edwarddonner.com/2025/01/23/llm-workshop-hands-on-with-agents-resources/\n",
      "https://edwarddonner.com/\n",
      "https://edwarddonner.com/connect-four/\n",
      "https://edwarddonner.com/outsmart/\n",
      "https://edwarddonner.com/about-me-and-about-nebula/\n",
      "https://edwarddonner.com/posts/\n",
      "mailto:hello@mygroovydomain.com\n",
      "https://www.linkedin.com/in/eddonner/\n",
      "https://twitter.com/edwarddonner\n",
      "https://www.facebook.com/edward.donner.52\n"
     ]
    }
   ],
   "source": [
    "print(get_links_user_prompt(ed))"
   ]
  },
  {
   "cell_type": "code",
   "execution_count": 9,
   "id": "a29aca19-ca13-471c-a4b4-5abbfa813f69",
   "metadata": {},
   "outputs": [],
   "source": [
    "def get_links(url):\n",
    "    website = Website(url)\n",
    "    response = openai.chat.completions.create(\n",
    "        model=MODEL,\n",
    "        messages=[\n",
    "            {\"role\": \"system\", \"content\": link_system_prompt},\n",
    "            {\"role\": \"user\", \"content\": get_links_user_prompt(website)}\n",
    "      ],\n",
    "        response_format={\"type\": \"json_object\"}\n",
    "    )\n",
    "    result = response.choices[0].message.content\n",
    "    return json.loads(result)"
   ]
  },
  {
   "cell_type": "code",
   "execution_count": 10,
   "id": "74a827a0-2782-4ae5-b210-4a242a8b4cc2",
   "metadata": {},
   "outputs": [
    {
     "data": {
      "text/plain": [
       "['/',\n",
       " '/models',\n",
       " '/datasets',\n",
       " '/spaces',\n",
       " '/docs',\n",
       " '/enterprise',\n",
       " '/pricing',\n",
       " '/login',\n",
       " '/join',\n",
       " '/spaces',\n",
       " '/models',\n",
       " '/black-forest-labs/FLUX.1-Kontext-dev',\n",
       " '/tencent/Hunyuan-A13B-Instruct',\n",
       " '/google/gemma-3n-E4B-it',\n",
       " '/THUDM/GLM-4.1V-9B-Thinking',\n",
       " '/OmniGen2/OmniGen2',\n",
       " '/models',\n",
       " '/spaces/enzostvs/deepsite',\n",
       " '/spaces/black-forest-labs/FLUX.1-Kontext-Dev',\n",
       " '/spaces/ilcve21/Sparc3D',\n",
       " '/spaces/OmniGen2/OmniGen2',\n",
       " '/spaces/tencent/Hunyuan3D-2.1',\n",
       " '/spaces',\n",
       " '/datasets/fka/awesome-chatgpt-prompts',\n",
       " '/datasets/facebook/seamless-interaction',\n",
       " '/datasets/HuggingFaceFW/fineweb-2',\n",
       " '/datasets/FreedomIntelligence/ShareGPT-4o-Image',\n",
       " '/datasets/nvidia/OpenScience',\n",
       " '/datasets',\n",
       " '/join',\n",
       " '/pricing#endpoints',\n",
       " '/pricing#spaces',\n",
       " '/pricing',\n",
       " '/enterprise',\n",
       " '/enterprise',\n",
       " '/enterprise',\n",
       " '/enterprise',\n",
       " '/enterprise',\n",
       " '/enterprise',\n",
       " '/enterprise',\n",
       " '/allenai',\n",
       " '/facebook',\n",
       " '/amazon',\n",
       " '/google',\n",
       " '/Intel',\n",
       " '/microsoft',\n",
       " '/grammarly',\n",
       " '/Writer',\n",
       " '/docs/transformers',\n",
       " '/docs/diffusers',\n",
       " '/docs/safetensors',\n",
       " '/docs/huggingface_hub',\n",
       " '/docs/tokenizers',\n",
       " '/docs/trl',\n",
       " '/docs/transformers.js',\n",
       " '/docs/smolagents',\n",
       " '/docs/peft',\n",
       " '/docs/datasets',\n",
       " '/docs/text-generation-inference',\n",
       " '/docs/accelerate',\n",
       " '/models',\n",
       " '/datasets',\n",
       " '/spaces',\n",
       " '/changelog',\n",
       " 'https://endpoints.huggingface.co',\n",
       " '/chat',\n",
       " '/huggingface',\n",
       " '/brand',\n",
       " '/terms-of-service',\n",
       " '/privacy',\n",
       " 'https://apply.workable.com/huggingface/',\n",
       " 'mailto:press@huggingface.co',\n",
       " '/learn',\n",
       " '/docs',\n",
       " '/blog',\n",
       " 'https://discuss.huggingface.co',\n",
       " 'https://status.huggingface.co/',\n",
       " 'https://github.com/huggingface',\n",
       " 'https://twitter.com/huggingface',\n",
       " 'https://www.linkedin.com/company/huggingface/',\n",
       " '/join/discord',\n",
       " 'https://www.zhihu.com/org/huggingface',\n",
       " 'https://huggingface.co/datasets/huggingface/documentation-images/resolve/main/blog/chinese-language-blog/wechat.jpg']"
      ]
     },
     "execution_count": 10,
     "metadata": {},
     "output_type": "execute_result"
    }
   ],
   "source": [
    "# Anthropic has made their site harder to scrape, so I'm using HuggingFace..\n",
    "\n",
    "huggingface = Website(\"https://huggingface.co\")\n",
    "huggingface.links"
   ]
  },
  {
   "cell_type": "code",
   "execution_count": 11,
   "id": "d3d583e2-dcc4-40cc-9b28-1e8dbf402924",
   "metadata": {},
   "outputs": [
    {
     "data": {
      "text/plain": [
       "{'links': [{'type': 'about page', 'url': 'https://huggingface.co'},\n",
       "  {'type': 'enterprise page', 'url': 'https://huggingface.co/enterprise'},\n",
       "  {'type': 'pricing page', 'url': 'https://huggingface.co/pricing'},\n",
       "  {'type': 'careers page', 'url': 'https://apply.workable.com/huggingface/'},\n",
       "  {'type': 'blog page', 'url': 'https://huggingface.co/blog'},\n",
       "  {'type': 'community discussion page',\n",
       "   'url': 'https://discuss.huggingface.co'},\n",
       "  {'type': 'GitHub page', 'url': 'https://github.com/huggingface'},\n",
       "  {'type': 'Twitter page', 'url': 'https://twitter.com/huggingface'},\n",
       "  {'type': 'LinkedIn page',\n",
       "   'url': 'https://www.linkedin.com/company/huggingface/'}]}"
      ]
     },
     "execution_count": 11,
     "metadata": {},
     "output_type": "execute_result"
    }
   ],
   "source": [
    "get_links(\"https://huggingface.co\")"
   ]
  },
  {
   "cell_type": "markdown",
   "id": "0d74128e-dfb6-47ec-9549-288b621c838c",
   "metadata": {},
   "source": [
    "## Second step: make the brochure!\n",
    "\n",
    "Assemble all the details into another prompt to GPT4-o"
   ]
  },
  {
   "cell_type": "code",
   "execution_count": 12,
   "id": "85a5b6e2-e7ef-44a9-bc7f-59ede71037b5",
   "metadata": {},
   "outputs": [],
   "source": [
    "def get_all_details(url):\n",
    "    result = \"Landing page:\\n\"\n",
    "    result += Website(url).get_contents()\n",
    "    links = get_links(url)\n",
    "    print(\"Found links:\", links)\n",
    "    for link in links[\"links\"]:\n",
    "        result += f\"\\n\\n{link['type']}\\n\"\n",
    "        result += Website(link[\"url\"]).get_contents()\n",
    "    return result"
   ]
  },
  {
   "cell_type": "code",
   "execution_count": 30,
   "id": "5099bd14-076d-4745-baf3-dac08d8e5ab2",
   "metadata": {},
   "outputs": [
    {
     "name": "stdout",
     "output_type": "stream",
     "text": [
      "Found links: {'links': [{'type': 'about page', 'url': 'https://www.walkerphotography.org/about'}, {'type': 'contact page', 'url': 'https://www.walkerphotography.org/contact'}, {'type': 'galleries page', 'url': 'https://www.walkerphotography.org/galleries'}]}\n",
      "Landing page:\n",
      "Webpage Title:\n",
      "Family of photographers lovers | Walkerphotography\n",
      "Webpage Contents:\n",
      "Home\n",
      "About\n",
      "Blog\n",
      "Contact\n",
      "Galleries\n",
      "Wildlife\n",
      "Landscapes\n",
      "Architecture\n",
      "Street / Life\n",
      "Home\n",
      "About\n",
      "Blog\n",
      "Contact\n",
      "Galleries\n",
      "Wildlife\n",
      "Landscapes\n",
      "Architecture\n",
      "Street / Life\n",
      "With each photograph, we capture the magic of light, the tranquility of nature and the pulse of life.\n",
      "Find out more\n",
      "Galleries\n",
      "Wildlife\n",
      "Landscapes\n",
      "Architecture\n",
      "Street\n",
      "©\n",
      "2025 Walkerphotography. All rights reserved.\n",
      "\n",
      "\n",
      "\n",
      "about page\n",
      "Webpage Title:\n",
      "About the Walker family | Walkerphotography\n",
      "Webpage Contents:\n",
      "Home\n",
      "About\n",
      "Blog\n",
      "Contact\n",
      "Galleries\n",
      "Wildlife\n",
      "Landscapes\n",
      "Architecture\n",
      "Street / Life\n",
      "Home\n",
      "About\n",
      "Blog\n",
      "Contact\n",
      "Galleries\n",
      "Wildlife\n",
      "Landscapes\n",
      "Architecture\n",
      "Street / Life\n",
      "Get to know us\n",
      "Hi! We're the Walker family\n",
      "Each of us love photography! Wherever we are, we love capturing photos of whatever scene or subject captures our attention. Whether that is some form of wild life, a dramatic landscape or an interesting building or street scene.\n",
      "Come say hi!\n",
      "Ben\n",
      "I love the technicality of photography and using the camera’s settings to produce the photo that I see in my mind's eye. Combining that technical love with my passion for nature and the natural world, I strive to capture the intricate beauty of wildlife, the serene majesty of landscapes, and the architectural wonders that surround us. My aim is to create images that not only showcase the subject's essence but also evoke emotion and tell a story. Through my lens, I hope to share my unique perspective and inspire others to see the world in a new light.\n",
      "Claire\n",
      "I have always had a love for photography and as a little girl I can remember watching in awe of my Dad take photographs on his Canon SLR. I would be counting down the days until the photos would arrive through our letter box, eager to delve inside and relive the moments beautifully captured, which one day would become fond memories. As a teenager and young adult, I'd always be the girl with the Kodak disposable and friends could rely on me to take the photos on our days and nights out.\n",
      "Today, I love nothing more than taking my camera out and about, whether thatâ€™s in nature surrounded by mountains or in busy cities snapping life's moments. My favourite aspect of photography is storytelling through my photos and I can't wait to share all my stories with you, on our website, blog and social media!\n",
      "Lilie\n",
      "Hi, I'm Lilie & I am thirteen years old. In my opinion I think photography is a great way to express yourself & share what you love. For example you can change the way the photo looks, add dramatic effects to it or just keep it how it was originally.\n",
      "There are so many subjects to take photos of e.g. wildlife, portraits, buildings, sunrises, sunsets or nature. What I love the most is wildlife & nature photography. Once you find a subject you like, you immediately fall in love with photography.\n",
      "A while back, I was on holiday in the Lake District & was lucky to see a field full of highland cattle, which is now my one of my favourite animals. I was able to get right up close and get a perfect shot of the cows face. From that moment on I knew that I loved taking photos of animals & nature. My parents are also a big influence. They fell in love with photography a long time ago & still love it. They interest me with their amazing photos and it makes me want to be like them.\n",
      "Drew\n",
      "I love photography because it helps you escape from technology like your Xbox and Playstation. Just being in the moment of wildlife and nature. Taking photos of all sorts of things like animals, flowers and even buildings. Photography is just fascinating to do. So get a camera today and get out and start taking photos.\n",
      "Poppy\n",
      "I love phojography because I love adventuring with my mummy and daddy, exploring nature with my camera.\n",
      "I especially love being in the woods and taking photos of anything and everything I find interesting. Especially trees or animals.\n",
      "©\n",
      "2025 Walkerphotography. All rights reserved.\n",
      "\n",
      "\n",
      "\n",
      "contact page\n",
      "Webpage Title:\n",
      "Walkerphotography contact page | Walkerphotography\n",
      "Webpage Contents:\n",
      "Home\n",
      "About\n",
      "Blog\n",
      "Contact\n",
      "Galleries\n",
      "Wildlife\n",
      "Landscapes\n",
      "Architecture\n",
      "Street / Life\n",
      "Home\n",
      "About\n",
      "Blog\n",
      "Contact\n",
      "Galleries\n",
      "Wildlife\n",
      "Landscapes\n",
      "Architecture\n",
      "Street / Life\n",
      "Say Hi!\n",
      "Feel free to reach out to us with any questions to comments. You can use the form on our website or email us directly. We appreciate your interest and look forward to hearing from you.\n",
      "First name*\n",
      "Last name\n",
      "Your email*\n",
      "Message*\n",
      "Submit\n",
      "Contact\n",
      "info@walkerphotography.org\n",
      "Address\n",
      "Eastbourne, East Sussex BN20\n",
      "Follow us\n",
      "©\n",
      "2025 Walkerphotography. All rights reserved.\n",
      "\n",
      "\n",
      "\n",
      "galleries page\n",
      "Webpage Title:\n",
      "Photography Galleries | Walkerphotography\n",
      "Webpage Contents:\n",
      "Home\n",
      "About\n",
      "Blog\n",
      "Contact\n",
      "Galleries\n",
      "Wildlife\n",
      "Landscapes\n",
      "Architecture\n",
      "Street / Life\n",
      "Home\n",
      "About\n",
      "Blog\n",
      "Contact\n",
      "Galleries\n",
      "Wildlife\n",
      "Landscapes\n",
      "Architecture\n",
      "Street / Life\n",
      "Galleries\n",
      "Wildlife\n",
      "Landscapes\n",
      "Architecture\n",
      "Street\n",
      "©\n",
      "2025 Walkerphotography. All rights reserved.\n",
      "\n",
      "\n"
     ]
    }
   ],
   "source": [
    "print(get_all_details(\"https://www.walkerphotography.org\"))"
   ]
  },
  {
   "cell_type": "code",
   "execution_count": 21,
   "id": "9b863a55-f86c-4e3f-8a79-94e24c1a8cf2",
   "metadata": {},
   "outputs": [],
   "source": [
    "system_prompt = \"You are an assistant that analyzes the contents of several relevant pages from a company website \\\n",
    "and creates a short brochure about the company for prospective customers, investors and recruits. Respond in markdown.\\\n",
    "include details of company culture, customers and careers/jobs if you have the information.\"\n",
    "\n",
    "# Or uncomment the lines below for a more humorous brochure - this demonstrates how easy it is to incorporate 'tone':\n",
    "\n",
    "#system_prompt = \"You are an assistant that analyzes the contents of several relevant pages from a company website \\\n",
    "#and creates a short humorous, entertaining, jokey brochure about the company for prospective customers, investors and recruits. Respond in markdown.\\\n",
    "#Include details of company culture, customers and careers/jobs if you have the information.\"\n"
   ]
  },
  {
   "cell_type": "code",
   "execution_count": 22,
   "id": "6ab83d92-d36b-4ce0-8bcc-5bb4c2f8ff23",
   "metadata": {},
   "outputs": [],
   "source": [
    "def get_brochure_user_prompt(company_name, url):\n",
    "    user_prompt = f\"You are looking at a company called: {company_name}\\n\"\n",
    "    user_prompt += f\"Here are the contents of its landing page and other relevant pages; use this information to build a short brochure of the company in markdown.\\n\"\n",
    "    user_prompt += get_all_details(url)\n",
    "    user_prompt = user_prompt[:5_000] # Truncate if more than 5,000 characters\n",
    "    return user_prompt"
   ]
  },
  {
   "cell_type": "code",
   "execution_count": 23,
   "id": "cd909e0b-1312-4ce2-a553-821e795d7572",
   "metadata": {},
   "outputs": [
    {
     "name": "stdout",
     "output_type": "stream",
     "text": [
      "Found links: {'links': [{'type': 'about page', 'url': 'https://huggingface.co'}, {'type': 'careers page', 'url': 'https://apply.workable.com/huggingface/'}, {'type': 'company page', 'url': 'https://huggingface.co/huggingface'}, {'type': 'blog', 'url': 'https://huggingface.co/blog'}, {'type': 'community forum', 'url': 'https://discuss.huggingface.co'}, {'type': 'LinkedIn page', 'url': 'https://www.linkedin.com/company/huggingface/'}, {'type': 'GitHub page', 'url': 'https://github.com/huggingface'}, {'type': 'Twitter page', 'url': 'https://twitter.com/huggingface'}]}\n"
     ]
    },
    {
     "data": {
      "text/plain": [
       "'You are looking at a company called: HuggingFace\\nHere are the contents of its landing page and other relevant pages; use this information to build a short brochure of the company in markdown.\\nLanding page:\\nWebpage Title:\\nHugging Face – The AI community building the future.\\nWebpage Contents:\\nHugging Face\\nModels\\nDatasets\\nSpaces\\nCommunity\\nDocs\\nEnterprise\\nPricing\\nLog In\\nSign Up\\nThe AI community building the future.\\nThe platform where the machine learning community collaborates on models, datasets, and applications.\\nExplore AI Apps\\nor\\nBrowse 1M+ models\\nTrending on\\nthis week\\nModels\\nblack-forest-labs/FLUX.1-Kontext-dev\\nUpdated\\n6 days ago\\n•\\n144k\\n•\\n1.27k\\ntencent/Hunyuan-A13B-Instruct\\nUpdated\\n2 days ago\\n•\\n9.23k\\n•\\n697\\ngoogle/gemma-3n-E4B-it\\nUpdated\\nabout 20 hours ago\\n•\\n175k\\n•\\n420\\nTHUDM/GLM-4.1V-9B-Thinking\\nUpdated\\n1 day ago\\n•\\n4.12k\\n•\\n175\\nOmniGen2/OmniGen2\\nUpdated\\n10 days ago\\n•\\n34.6k\\n•\\n335\\nBrowse 1M+ models\\nSpaces\\nRunning\\n9.19k\\n9.19k\\nDeepSite v2\\n🐳\\nGenerate any application with DeepSeek\\nRunning\\non\\nZero\\nMCP\\n514\\n514\\nFLUX.1 Kontext\\n⚡\\nKontext image editing on FLUX[dev]\\nRunning\\n1.02k\\n1.02k\\nSparc3D\\n🏃\\nNext-Gen High-Resolution 3D Model Generation\\nRunning\\non\\nZero\\n362\\n362\\nOmniGen2\\n👀\\nOmniGen2: Unified Image Understanding and Generation.\\nRunning\\non\\nZero\\n612\\n612\\nHunyuan3D-2.1\\n👻\\nImage-to-3D Generation\\nBrowse 400k+ applications\\nDatasets\\nfka/awesome-chatgpt-prompts\\nUpdated\\nJan 6\\n•\\n22.9k\\n•\\n8.14k\\nfacebook/seamless-interaction\\nUpdated\\n7 days ago\\n•\\n1\\n•\\n75\\nHuggingFaceFW/fineweb-2\\nUpdated\\n7 days ago\\n•\\n38.3k\\n•\\n557\\nFreedomIntelligence/ShareGPT-4o-Image\\nUpdated\\n3 days ago\\n•\\n75\\n•\\n65\\nnvidia/OpenScience\\nUpdated\\n16 days ago\\n•\\n435\\n•\\n52\\nBrowse 250k+ datasets\\nThe Home of Machine Learning\\nCreate, discover and collaborate on ML better.\\nThe collaboration platform\\nHost and collaborate on unlimited public models, datasets and applications.\\nMove faster\\nWith the HF Open source stack.\\nExplore all modalities\\nText, image, video, audio or even 3D.\\nBuild your portfolio\\nShare your work with the world and build your ML profile.\\nSign Up\\nAccelerate your ML\\nWe provide paid Compute and Enterprise solutions.\\nCompute\\nDeploy on optimized\\nInference Endpoints\\nor update your\\nSpaces applications\\nto a GPU in a few clicks.\\nView pricing\\nStarting at $0.60/hour for GPU\\nTeam & Enterprise\\nGive your team the most advanced platform to build AI with enterprise-grade security, access controls and\\n\\t\\t\\tdedicated support.\\nGetting started\\nStarting at $20/user/month\\nSingle Sign-On\\nRegions\\nPriority Support\\nAudit Logs\\nResource Groups\\nPrivate Datasets Viewer\\nMore than 50,000 organizations are using Hugging Face\\nAi2\\nEnterprise\\nnon-profit\\n•\\n766 models\\n•\\n3.52k followers\\nAI at Meta\\nEnterprise\\ncompany\\n•\\n2.17k models\\n•\\n6.7k followers\\nAmazon\\ncompany\\n•\\n20 models\\n•\\n3.27k followers\\nGoogle\\nEnterprise\\ncompany\\n•\\n1.01k models\\n•\\n18.6k followers\\nIntel\\ncompany\\n•\\n206 models\\n•\\n2.7k followers\\nMicrosoft\\ncompany\\n•\\n396 models\\n•\\n13.3k followers\\nGrammarly\\nTeam\\ncompany\\n•\\n10 models\\n•\\n166 followers\\nWriter\\nEnterprise\\ncompany\\n•\\n21 models\\n•\\n309 followers\\nOur Open Source\\nWe are building the foundation of ML tooling with the community.\\nTransformers\\n146,429\\nState-of-the-art ML for PyTorch, TensorFlow, JAX\\nDiffusers\\n29,638\\nState-of-the-art Diffusion models in PyTorch\\nSafetensors\\n3,338\\nSafe way to store/distribute neural network weights\\nHub Python Library\\n2,734\\nPython client to interact with the Hugging Face Hub\\nTokenizers\\n9,864\\nFast tokenizers optimized for research & production\\nTRL\\n14,446\\nTrain transformers LMs with reinforcement learning\\nTransformers.js\\n13,977\\nState-of-the-art ML running directly in your browser\\nsmolagents\\n20,900\\nSmol library to build great agents in Python\\nPEFT\\n18,936\\nParameter-efficient finetuning for large language models\\nDatasets\\n20,329\\nAccess & share datasets for any ML tasks\\nText Generation Inference\\n10,285\\nServe language models with TGI optimized toolkit\\nAccelerate\\n8,897\\nTrain PyTorch models with multi-GPU, TPU, mixed precision\\nSystem theme\\nWebsite\\nModels\\nDatasets\\nSpaces\\nChangelog\\nInference Endpoints\\nHuggingChat\\nCompany\\nAbout\\nBrand assets\\nTerms of service\\nPrivacy\\nJobs\\nPress\\nResources\\nLearn\\nDocumentation\\nBlog\\nForum\\nService Status\\nSocial\\nGitHub\\nTwitter\\nLinkedIn\\nDiscord\\n\\n\\n\\nabout page\\nWebpage Title:\\nHugging Face – The AI community building the future.\\nWebpage Contents:\\nHugging Face\\nModels\\nDatasets\\nSpaces\\nCommunity\\nDocs\\nEnterprise\\nPricing\\nLog In\\nSign Up\\nThe AI community building the future.\\nThe platform where the machine learning community collaborates on models, datasets, and applications.\\nExplore AI Apps\\nor\\nBrowse 1M+ models\\nTrending on\\nthis week\\nModels\\nblack-forest-labs/FLUX.1-Kontext-dev\\nUpdated\\n6 days ago\\n•\\n144k\\n•\\n1.27k\\ntencent/Hunyuan-A13B-Instruct\\nUpdated\\n2 days ago\\n•\\n9.23k\\n•\\n697\\ngoogle/gemma-3n-E4B-it\\nUpdated\\nabout 20 hours ago\\n•\\n175k\\n•\\n420\\nTHUDM/GLM-4.1V-9B-Thinking\\nUpdated\\n1 day ago\\n•\\n4.12k\\n•\\n175\\nOmniGen2/OmniGen2\\nUpdated\\n10 days ago\\n•\\n34.6k\\n•\\n335\\nBrowse 1M+ models\\nSpaces\\nRunning\\n9.19k\\n9.19k\\nDeepSite v2\\n🐳\\nGenerate any application with DeepSeek\\nRunning\\non\\nZero\\nMCP\\n514\\n514\\nFLUX.1 Kontext\\n⚡\\nKontext ima'"
      ]
     },
     "execution_count": 23,
     "metadata": {},
     "output_type": "execute_result"
    }
   ],
   "source": [
    "get_brochure_user_prompt(\"HuggingFace\", \"https://huggingface.co\")"
   ]
  },
  {
   "cell_type": "code",
   "execution_count": 24,
   "id": "e44de579-4a1a-4e6a-a510-20ea3e4b8d46",
   "metadata": {},
   "outputs": [],
   "source": [
    "def create_brochure(company_name, url):\n",
    "    response = openai.chat.completions.create(\n",
    "        model=MODEL,\n",
    "        messages=[\n",
    "            {\"role\": \"system\", \"content\": system_prompt},\n",
    "            {\"role\": \"user\", \"content\": get_brochure_user_prompt(company_name, url)}\n",
    "          ],\n",
    "    )\n",
    "    result = response.choices[0].message.content\n",
    "    display(Markdown(result))"
   ]
  },
  {
   "cell_type": "code",
   "execution_count": 25,
   "id": "e093444a-9407-42ae-924a-145730591a39",
   "metadata": {},
   "outputs": [
    {
     "name": "stdout",
     "output_type": "stream",
     "text": [
      "Found links: {'links': [{'type': 'about page', 'url': 'https://huggingface.co/about'}, {'type': 'careers page', 'url': 'https://apply.workable.com/huggingface/'}, {'type': 'company page', 'url': 'https://huggingface.co/enterprise'}, {'type': 'pricing page', 'url': 'https://huggingface.co/pricing'}, {'type': 'blog page', 'url': 'https://huggingface.co/blog'}, {'type': 'join page', 'url': 'https://huggingface.co/join'}, {'type': 'models page', 'url': 'https://huggingface.co/models'}, {'type': 'datasets page', 'url': 'https://huggingface.co/datasets'}, {'type': 'spaces page', 'url': 'https://huggingface.co/spaces'}, {'type': 'documentation page', 'url': 'https://huggingface.co/docs'}, {'type': 'community page', 'url': 'https://discuss.huggingface.co'}, {'type': 'social media page', 'url': 'https://twitter.com/huggingface'}, {'type': 'linkedin page', 'url': 'https://www.linkedin.com/company/huggingface/'}]}\n"
     ]
    },
    {
     "data": {
      "text/markdown": [
       "```markdown\n",
       "# Welcome to Hugging Face! 🤗\n",
       "\n",
       "**Where the Robots Hold the Future's Hands!**  \n",
       "\n",
       "At Hugging Face, we’re not just building cutting-edge AI models; we’re shaping a future where machines and humans coexist (preferably without any robot uprisings). Our open-source community brings together the most brilliant minds in machine learning to create, collaborate, and occasionally confuse the robots with jokes.\n",
       "\n",
       "## What Do We Offer? 🛠️\n",
       "\n",
       "- **1M+ Models** 📊: Browse our library that's just about as big as your in-laws' collection of holiday photos! From image generation to text analysis, we’ve got a model for every task (even if that task is just generating awkward small talk).\n",
       "  \n",
       "- **Datasets Galore!** 🗃️: Dive into over **250k datasets** because why stop at just one when you can have them all? It's like a buffet, but for data—bring your biggest storage drive!\n",
       "\n",
       "- **Spaces** 🏢: Create and share applications effortlessly in our user-friendly \"Spaces.\" Think of it as the 'cool kids' playroom for AI enthusiasts where the only rule is to not talk about Fight Club.\n",
       "\n",
       "## Our Culture 🌈\n",
       "\n",
       "At Hugging Face, we believe in the power of collaboration over competition! Picture a cozy place where everyone’s on a first-name basis with the code. We value creativity, initiative, and the occasional virtual high-five! Join an environment where machine learning isn't work—it's more like a growing family of nerds who can't stop hugging data (and each other).\n",
       "\n",
       "- **Team Spirit**: Collaborate with **50,000+ organizations** (yes, we’re a big deal)! From tech giants like Google and Amazon to charming little startups like “Your Mom's Kitchen,” our community is diverse, and so is our choice of snacks.\n",
       "\n",
       "## Careers at Hugging Face 🚀\n",
       "\n",
       "Ready to join us? We're always on the lookout for talented individuals who love AI nearly as much as they love coffee (because let’s face it, the latter keeps you awake to figure out why your model isn't working)! Check out our latest job openings and see if you have what it takes to join our cool club!\n",
       "\n",
       "### Current Openings\n",
       "- Model Wrangler (just kidding, but we do have some fun jobs!)\n",
       "- Dataset Tamer (you'll never have a dull moment!)\n",
       "- Hugging Specialist (this one’s for real—bring your best hugs!)\n",
       "\n",
       "## Our Customers (aka Awesome People) 🤝\n",
       "\n",
       "We've partnered with **companies that are kinda a big deal**—Meta, Amazon, and Google, to name a few. But our true customers are the unpredictable geniuses in the community who play with our tools, tweak our models, and make us rethink our entire existence (no pressure!).\n",
       "\n",
       "## Join Us! 🙌\n",
       "\n",
       "Want to nurture the future of AI? Visit our website to explore models, datasets, and apply for a position. We promise you’ll leave with a smile (and maybe a model or two).\n",
       "\n",
       "**Hugging Face – Because AI is better with hugs.** 🤗💙\n",
       "\n",
       "[Explore More](#)\n",
       "```\n"
      ],
      "text/plain": [
       "<IPython.core.display.Markdown object>"
      ]
     },
     "metadata": {},
     "output_type": "display_data"
    }
   ],
   "source": [
    "create_brochure(\"HuggingFace\", \"https://huggingface.co\")"
   ]
  },
  {
   "cell_type": "markdown",
   "id": "61eaaab7-0b47-4b29-82d4-75d474ad8d18",
   "metadata": {},
   "source": [
    "## Finally - a minor improvement\n",
    "\n",
    "With a small adjustment, we can change this so that the results stream back from OpenAI,\n",
    "with the familiar typewriter animation"
   ]
  },
  {
   "cell_type": "code",
   "execution_count": 26,
   "id": "51db0e49-f261-4137-aabe-92dd601f7725",
   "metadata": {},
   "outputs": [],
   "source": [
    "def stream_brochure(company_name, url):\n",
    "    stream = openai.chat.completions.create(\n",
    "        model=MODEL,\n",
    "        messages=[\n",
    "            {\"role\": \"system\", \"content\": system_prompt},\n",
    "            {\"role\": \"user\", \"content\": get_brochure_user_prompt(company_name, url)}\n",
    "          ],\n",
    "        stream=True\n",
    "    )\n",
    "    \n",
    "    response = \"\"\n",
    "    display_handle = display(Markdown(\"\"), display_id=True)\n",
    "    for chunk in stream:\n",
    "        response += chunk.choices[0].delta.content or ''\n",
    "        response = response.replace(\"```\",\"\").replace(\"markdown\", \"\")\n",
    "        update_display(Markdown(response), display_id=display_handle.display_id)"
   ]
  },
  {
   "cell_type": "code",
   "execution_count": 27,
   "id": "56bf0ae3-ee9d-4a72-9cd6-edcac67ceb6d",
   "metadata": {},
   "outputs": [
    {
     "name": "stdout",
     "output_type": "stream",
     "text": [
      "Found links: {'links': [{'type': 'about page', 'url': 'https://huggingface.co/huggingface'}, {'type': 'careers page', 'url': 'https://apply.workable.com/huggingface/'}, {'type': 'blog', 'url': 'https://huggingface.co/blog'}, {'type': 'company page', 'url': 'https://www.linkedin.com/company/huggingface/'}]}\n"
     ]
    },
    {
     "data": {
      "text/markdown": [
       "\n",
       "# Welcome to Hugging Face! 🤗\n",
       "\n",
       "**The AI Community Building the Future**  \n",
       "Where dreams become AI reality, and where everyone gets a hug! (Disclaimer: Hugs may be virtual in nature.)\n",
       "\n",
       "---\n",
       "\n",
       "## Who Are We?\n",
       "\n",
       "Picture a group of machine learning enthusiasts, some with caffeine-induced superpowers, all collaborating to create a better tomorrow through AI goodness! From models to datasets, we’ve got it all—1 Million+ models and counting! We might even hold a world record for the most caffeinated brains in one online space. ☕\n",
       "\n",
       "---\n",
       "\n",
       "## Our Customers & Partners 🤝\n",
       "\n",
       "We're on the guest list for more than **50,000 organizations**! That’s right, you’re in good company! From **Amazon** to **Google** to **Grammarly**: we like to call ourselves the “Hugging Network of Champions.” So grab your cape, and let us save the day—one AI model at a time! 🦸‍♂️\n",
       "\n",
       "---\n",
       "\n",
       "## Why Choose Us?\n",
       "\n",
       "- **Models Galore**: Stuck in a model rut? We have 1M+ models to explore—just remember to bring your adventure hat! 🎩\n",
       "  \n",
       "- **Datasets to Die For**: Curious about the latest datasets? We've got over **250k** waiting to be uncovered. They shine like diamonds! 💎\n",
       "\n",
       "- **Community Love**: We put the “unity” in community! Join us in our collaborative chaos where every update feels like a group hug.\n",
       "\n",
       "---\n",
       "\n",
       "## Our Amazing Team Culture 🎉\n",
       "\n",
       "At Hugging Face, the coffee flows as freely as the ideas! We embrace flexible schedules, quirky memes, and the collective belief that a good dad joke can solve nearly any problem. \"Why did the neural network break up with its girlfriend? She said it had too many layers!\" 🥁\n",
       "\n",
       "### Career Opportunities\n",
       "\n",
       "Are you ready to transform your love for machine learning into a fun job? We're looking for:\n",
       "- **Model Magicians**: Craft enchanting models that leave everyone spellbound.\n",
       "- **Dataset Adventurers**: Navigate through datasets like Indiana Jones.\n",
       "- **AI Ambassadors**: Spread the word about our AI superpowers—one hug at a time!\n",
       "\n",
       "---\n",
       "\n",
       "## How to Join Us! 🚀\n",
       "\n",
       "Could you be the next AI superhero in our community? Joining is simple! Sign up on our website, and get ready to collaborate, innovate, and give virtual high-fives!\n",
       "\n",
       "| **Sign Up Now** | **Get a Hug** |\n",
       "|------------------|---------------|\n",
       "| [Hugging Face Sign Up](https://huggingface.co) | 🤗 |\n",
       "\n",
       "---\n",
       "\n",
       "Remember, whether you're a customer, investor, or future recruit—when you're with Hugging Face, you're family. The world of AI awaits, and we can’t wait to see what we’ll build together!\n",
       "\n",
       "---\n",
       "\n",
       "*Note: Side effects of joining Hugging Face may include excessive hugging, sudden bursts of creativity, and frequent “pants-optional” meetings (just kidding?).* 🤔\n",
       "\n"
      ],
      "text/plain": [
       "<IPython.core.display.Markdown object>"
      ]
     },
     "metadata": {},
     "output_type": "display_data"
    }
   ],
   "source": [
    "stream_brochure(\"HuggingFace\", \"https://huggingface.co\")"
   ]
  },
  {
   "cell_type": "code",
   "execution_count": 28,
   "id": "fdb3f8d8-a3eb-41c8-b1aa-9f60686a653b",
   "metadata": {},
   "outputs": [
    {
     "name": "stdout",
     "output_type": "stream",
     "text": [
      "Found links: {'links': [{'type': 'about page', 'url': 'https://huggingface.co/about'}, {'type': 'careers page', 'url': 'https://apply.workable.com/huggingface/'}, {'type': 'blog page', 'url': 'https://huggingface.co/blog'}, {'type': 'company social media', 'url': 'https://twitter.com/huggingface'}, {'type': 'company social media', 'url': 'https://www.linkedin.com/company/huggingface/'}]}\n"
     ]
    },
    {
     "data": {
      "text/markdown": [
       "# 🎉 Welcome to Hugging Face! 🎉\n",
       "\n",
       "**The AI Community Building the Future!**  \n",
       "(Disclaimer: Hugging Face does not provide actual hugs but does encourage the sharing of knowledge and collaboration—keep your arms to yourself!)\n",
       "\n",
       "---\n",
       "\n",
       "## Who We Are 🤖\n",
       "\n",
       "At **Hugging Face**, we're not just building models, datasets, and apps—we're creating a community (don’t worry, no awkward small talk required). With over **1M+ models** and **250k+ datasets**, we’re the cool kids on the AI block!\n",
       "\n",
       "We unite developers, data scientists, and AI enthusiasts under the banner of innovation, collaboration, and a sprinkling of humor! Our ultimate goal? To help dial down the \"AI is taking over the world\" panic and instead, make everyone say, “Wow, AI is like my loyal pet that brings me coffee!” ☕\n",
       "\n",
       "---\n",
       "\n",
       "## Our Customers 👩‍💻👨‍💼\n",
       "\n",
       "Join **50,000+ organizations** already tapping into our eccentric universe, including:\n",
       "\n",
       "- **Meta** – Because why have an average corporate life when you can work on AI?\n",
       "- **Amazon** – Crafting the future of shopping, one ML model at a time!\n",
       "- **Google** – For when search engines want to sound smart at parties.\n",
       "- **Microsoft** – Fixing bugs while wearing their iconic “I'm an AI wizard” hats. 🍵🧙\n",
       "\n",
       "---\n",
       "\n",
       "## Join the Fun! Careers at Hugging Face 🌟\n",
       "\n",
       "Looking to turn that empty coffee cup into a full-time gig? Check out **Hugging Face** for job openings! We’re embracing talents with open arms (and slightly less creepy than an actual hug). Whether you're a model trainer, a data wrangler, or just an enthusiastic AI lover, we might have the spot for you!\n",
       "\n",
       "### Current Openings:\n",
       "- **AI Wizards**: Get ready to conjure magic from data.\n",
       "- **Community Gurus**: Make sure our community feels loved (with virtual hugs).\n",
       "- **Tech Ninjas**: Your stealth skills with code can help us dance through challenges!\n",
       "\n",
       "---\n",
       "\n",
       "## Our Culture 🍕 & 🤝\n",
       "\n",
       "At **Hugging Face**, we believe in open-source everything! Imagine a world where colleagues share pizza and insightful AI models. Our workflow is open, our minds are broader, and our coffee breaks are legendary. Trust us; you'll never hear \"There's no 'I' in team\" here because we're too busy collaborating to notice! \n",
       "\n",
       "---\n",
       "\n",
       "## Let’s Get Started! 🚀\n",
       "\n",
       "Ready to join a community that’s building the future with algorithms and great coffee? Whether you’re a customer looking for AI solutions or a candidate with a thirst for innovation, **Hugging Face** is the place where dreams (and datasets) come true! 🥳 \n",
       "\n",
       "#### Explore. Collaborate. Hug (virtually)!\n",
       "\n",
       "For more information, visit us at [Hugging Face](https://huggingface.co) (valid URL disclaimer!)\n",
       "\n",
       "---\n",
       "\n",
       "*Disclaimer: No actual hugging was involved in the creation of this brochure; all models were generated in the spirit of affection.*"
      ],
      "text/plain": [
       "<IPython.core.display.Markdown object>"
      ]
     },
     "metadata": {},
     "output_type": "display_data"
    }
   ],
   "source": [
    "# Try changing the system prompt to the humorous version when you make the Brochure for Hugging Face:\n",
    "\n",
    "stream_brochure(\"HuggingFace\", \"https://huggingface.co\")"
   ]
  },
  {
   "cell_type": "markdown",
   "id": "a27bf9e0-665f-4645-b66b-9725e2a959b5",
   "metadata": {},
   "source": [
    "<table style=\"margin: 0; text-align: left;\">\n",
    "    <tr>\n",
    "        <td style=\"width: 150px; height: 150px; vertical-align: middle;\">\n",
    "            <img src=\"../business.jpg\" width=\"150\" height=\"150\" style=\"display: block;\" />\n",
    "        </td>\n",
    "        <td>\n",
    "            <h2 style=\"color:#181;\">Business applications</h2>\n",
    "            <span style=\"color:#181;\">In this exercise we extended the Day 1 code to make multiple LLM calls, and generate a document.\n",
    "\n",
    "This is perhaps the first example of Agentic AI design patterns, as we combined multiple calls to LLMs. This will feature more in Week 2, and then we will return to Agentic AI in a big way in Week 8 when we build a fully autonomous Agent solution.\n",
    "\n",
    "Generating content in this way is one of the very most common Use Cases. As with summarization, this can be applied to any business vertical. Write marketing content, generate a product tutorial from a spec, create personalized email content, and so much more. Explore how you can apply content generation to your business, and try making yourself a proof-of-concept prototype. See what other students have done in the community-contributions folder -- so many valuable projects -- it's wild!</span>\n",
    "        </td>\n",
    "    </tr>\n",
    "</table>"
   ]
  },
  {
   "cell_type": "markdown",
   "id": "14b2454b-8ef8-4b5c-b928-053a15e0d553",
   "metadata": {},
   "source": [
    "<table style=\"margin: 0; text-align: left;\">\n",
    "    <tr>\n",
    "        <td style=\"width: 150px; height: 150px; vertical-align: middle;\">\n",
    "            <img src=\"../important.jpg\" width=\"150\" height=\"150\" style=\"display: block;\" />\n",
    "        </td>\n",
    "        <td>\n",
    "            <h2 style=\"color:#900;\">Before you move to Week 2 (which is tons of fun)</h2>\n",
    "            <span style=\"color:#900;\">Please see the week1 EXERCISE notebook for your challenge for the end of week 1. This will give you some essential practice working with Frontier APIs, and prepare you well for Week 2.</span>\n",
    "        </td>\n",
    "    </tr>\n",
    "</table>"
   ]
  },
  {
   "cell_type": "markdown",
   "id": "17b64f0f-7d33-4493-985a-033d06e8db08",
   "metadata": {},
   "source": [
    "<table style=\"margin: 0; text-align: left;\">\n",
    "    <tr>\n",
    "        <td style=\"width: 150px; height: 150px; vertical-align: middle;\">\n",
    "            <img src=\"../resources.jpg\" width=\"150\" height=\"150\" style=\"display: block;\" />\n",
    "        </td>\n",
    "        <td>\n",
    "            <h2 style=\"color:#f71;\">A reminder on 3 useful resources</h2>\n",
    "            <span style=\"color:#f71;\">1. The resources for the course are available <a href=\"https://edwarddonner.com/2024/11/13/llm-engineering-resources/\">here.</a><br/>\n",
    "            2. I'm on LinkedIn <a href=\"https://www.linkedin.com/in/eddonner/\">here</a> and I love connecting with people taking the course!<br/>\n",
    "            3. I'm trying out X/Twitter and I'm at <a href=\"https://x.com/edwarddonner\">@edwarddonner<a> and hoping people will teach me how it's done..  \n",
    "            </span>\n",
    "        </td>\n",
    "    </tr>\n",
    "</table>"
   ]
  },
  {
   "cell_type": "markdown",
   "id": "6f48e42e-fa7a-495f-a5d4-26bfc24d60b6",
   "metadata": {},
   "source": [
    "<table style=\"margin: 0; text-align: left;\">\n",
    "    <tr>\n",
    "        <td style=\"width: 150px; height: 150px; vertical-align: middle;\">\n",
    "            <img src=\"../thankyou.jpg\" width=\"150\" height=\"150\" style=\"display: block;\" />\n",
    "        </td>\n",
    "        <td>\n",
    "            <h2 style=\"color:#090;\">Finally! I have a special request for you</h2>\n",
    "            <span style=\"color:#090;\">\n",
    "                My editor tells me that it makes a MASSIVE difference when students rate this course on Udemy - it's one of the main ways that Udemy decides whether to show it to others. If you're able to take a minute to rate this, I'd be so very grateful! And regardless - always please reach out to me at ed@edwarddonner.com if I can help at any point.\n",
    "            </span>\n",
    "        </td>\n",
    "    </tr>\n",
    "</table>"
   ]
  },
  {
   "cell_type": "code",
   "execution_count": null,
   "id": "b8d3e1a1-ba54-4907-97c5-30f89a24775b",
   "metadata": {},
   "outputs": [],
   "source": []
  }
 ],
 "metadata": {
  "kernelspec": {
   "display_name": "Python [conda env:llms]",
   "language": "python",
   "name": "conda-env-llms-py"
  },
  "language_info": {
   "codemirror_mode": {
    "name": "ipython",
    "version": 3
   },
   "file_extension": ".py",
   "mimetype": "text/x-python",
   "name": "python",
   "nbconvert_exporter": "python",
   "pygments_lexer": "ipython3",
   "version": "3.11.13"
  }
 },
 "nbformat": 4,
 "nbformat_minor": 5
}
